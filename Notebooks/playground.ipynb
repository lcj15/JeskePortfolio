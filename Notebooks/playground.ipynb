{
 "cells": [
  {
   "cell_type": "code",
   "execution_count": 2,
   "outputs": [
    {
     "ename": "ModuleNotFoundError",
     "evalue": "No module named 'Supervised'",
     "output_type": "error",
     "traceback": [
      "\u001B[0;31m---------------------------------------------------------------------------\u001B[0m",
      "\u001B[0;31mModuleNotFoundError\u001B[0m                       Traceback (most recent call last)",
      "Cell \u001B[0;32mIn[2], line 4\u001B[0m\n\u001B[1;32m      1\u001B[0m \u001B[38;5;28;01mimport\u001B[39;00m \u001B[38;5;21;01mnumpy\u001B[39;00m \u001B[38;5;28;01mas\u001B[39;00m \u001B[38;5;21;01mnp\u001B[39;00m\n\u001B[1;32m      2\u001B[0m \u001B[38;5;28;01mfrom\u001B[39;00m \u001B[38;5;21;01mscipy\u001B[39;00m\u001B[38;5;21;01m.\u001B[39;00m\u001B[38;5;21;01mspatial\u001B[39;00m\u001B[38;5;21;01m.\u001B[39;00m\u001B[38;5;21;01mdistance\u001B[39;00m \u001B[38;5;28;01mimport\u001B[39;00m pdist\n\u001B[0;32m----> 4\u001B[0m \u001B[38;5;28;01mfrom\u001B[39;00m \u001B[38;5;21;01mSupervised\u001B[39;00m\u001B[38;5;21;01m.\u001B[39;00m\u001B[38;5;21;01mLinearDiscriminantAnalysis\u001B[39;00m \u001B[38;5;28;01mimport\u001B[39;00m LDA\n\u001B[1;32m      5\u001B[0m \u001B[38;5;28;01mfrom\u001B[39;00m \u001B[38;5;21;01mscipy\u001B[39;00m\u001B[38;5;21;01m.\u001B[39;00m\u001B[38;5;21;01mio\u001B[39;00m \u001B[38;5;28;01mimport\u001B[39;00m loadmat\n\u001B[1;32m      6\u001B[0m \u001B[38;5;28;01mimport\u001B[39;00m \u001B[38;5;21;01mmatplotlib\u001B[39;00m\u001B[38;5;21;01m.\u001B[39;00m\u001B[38;5;21;01mpyplot\u001B[39;00m \u001B[38;5;28;01mas\u001B[39;00m \u001B[38;5;21;01mplt\u001B[39;00m\n",
      "\u001B[0;31mModuleNotFoundError\u001B[0m: No module named 'Supervised'"
     ]
    }
   ],
   "source": [
    "import numpy as np\n",
    "from scipy.spatial.distance import pdist\n",
    "\n",
    "from Supervised.LinearDiscriminantAnalysis import LDA\n",
    "from scipy.io import loadmat\n",
    "import matplotlib.pyplot as plt\n",
    "from util import accuracy\n",
    "\n",
    "from Supervised.DistanceClassifier import DistanceClassifier as DC\n",
    "from Supervised.KNearestNeighbors import KNearestNeighbor as KNN\n",
    "# TODO separately create a spot for Datasets based on Dr. Somersalo's mat files\n",
    "# TODO figure out how to import the sting library"
   ],
   "metadata": {
    "collapsed": false
   }
  },
  {
   "cell_type": "code",
   "execution_count": null,
   "outputs": [],
   "source": [],
   "metadata": {
    "collapsed": false
   }
  },
  {
   "cell_type": "markdown",
   "source": [
    "# ECG data"
   ],
   "metadata": {
    "collapsed": false
   }
  },
  {
   "cell_type": "code",
   "execution_count": null,
   "outputs": [],
   "source": [
    "# Training DATA\n",
    "\n",
    "mat1 = loadmat(r'/Users/liamjeske/Downloads/ECG_train.mat',simplify_cells=True)\n",
    "ECG_test_abnormal1 = mat1['X_train_abnormal']\n",
    "ECG_test_normal1 = mat1['X_train_normal']\n",
    "\n",
    "# 64 normal and 36 abnormal\n",
    "ECG_trainy = np.array([0]*64 + [1]*36)\n",
    "ECG_trainX = np.array( np.append(ECG_test_normal1, ECG_test_abnormal1, axis=0))\n",
    "# Testing DATA\n",
    "mat2 = loadmat(r'/Users/liamjeske/Downloads/ECG_test.mat', simplify_cells=True)\n",
    "ECG_test_abnormal2 = mat2['X_test_abnormal']\n",
    "ECG_test_normal2 = mat2['X_test_normal']\n",
    "\n",
    "# 64 normal and 36 abnormal\n",
    "ECG_testy = np.array([0]*len(ECG_test_normal2) + [1]*len(ECG_test_abnormal2))\n",
    "ECG_testX = np.array( np.append(ECG_test_normal2, ECG_test_abnormal2, axis=0))"
   ],
   "metadata": {
    "collapsed": false
   }
  },
  {
   "cell_type": "code",
   "execution_count": null,
   "outputs": [],
   "source": [
    "a = LDA(1, KNN(5))\n",
    "a.fit(ECG_trainX, y=ECG_trainy)\n",
    "p = a.transform(ECG_trainX.T).flatten()\n",
    "\n",
    "plt.hist(p[:64],color='red',bins=50, label=\"Normal\")\n",
    "plt.hist(p[64:],color='blue',bins=50, label=\"Abnormal\")\n",
    "plt.legend()\n",
    "plt.suptitle(\"Histogram of LDA Projected Training Data\")"
   ],
   "metadata": {
    "collapsed": false
   }
  },
  {
   "cell_type": "code",
   "execution_count": null,
   "outputs": [],
   "source": [
    "p2 = a.transform(ECG_testX.T).flatten()\n",
    "\n",
    "plt.hist(p2[ECG_testy==1],color='red',bins=50, label=\"Normal\")\n",
    "plt.hist(p2[ECG_testy==0],color='blue',bins=50, label=\"Abnormal\")\n",
    "plt.legend()\n",
    "plt.suptitle(\"Histogram of LDA Projected Training Data\")\n",
    "plt.show()"
   ],
   "metadata": {
    "collapsed": false
   }
  },
  {
   "cell_type": "code",
   "execution_count": null,
   "outputs": [],
   "source": [
    "np.sum(a.predict(ECG_testX) == ECG_testy) / len(ECG_testy)"
   ],
   "metadata": {
    "collapsed": false
   }
  },
  {
   "cell_type": "code",
   "execution_count": null,
   "outputs": [],
   "source": [
    "from DistanceClassifier import DistanceClassifier as DC\n",
    "dc = DC()\n",
    "dc.fit(ECG_trainX, ECG_trainy)\n",
    "np.sum(dc.predict(ECG_testX) == ECG_testy) / len(ECG_testy)"
   ],
   "metadata": {
    "collapsed": false
   }
  },
  {
   "cell_type": "code",
   "execution_count": null,
   "outputs": [],
   "source": [
    "k = KNN(5)\n",
    "k.fit(ECG_trainX,ECG_trainy)\n",
    "plab = k.predict(ECG_testX)\n",
    "accuracy(plab,ECG_testy)"
   ],
   "metadata": {
    "collapsed": false
   }
  },
  {
   "cell_type": "code",
   "execution_count": null,
   "outputs": [],
   "source": [
    "type(a)"
   ],
   "metadata": {
    "collapsed": false
   }
  },
  {
   "cell_type": "code",
   "execution_count": null,
   "outputs": [],
   "source": [
    "from util import pdistance_matrix\n",
    "pdistance_matrix(ECG_trainX,'cityblock')"
   ],
   "metadata": {
    "collapsed": false
   }
  }
 ],
 "metadata": {
  "kernelspec": {
   "display_name": "Python 3",
   "language": "python",
   "name": "python3"
  },
  "language_info": {
   "codemirror_mode": {
    "name": "ipython",
    "version": 2
   },
   "file_extension": ".py",
   "mimetype": "text/x-python",
   "name": "python",
   "nbconvert_exporter": "python",
   "pygments_lexer": "ipython2",
   "version": "2.7.6"
  }
 },
 "nbformat": 4,
 "nbformat_minor": 0
}
